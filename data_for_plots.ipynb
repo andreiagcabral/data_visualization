{
 "cells": [
  {
   "cell_type": "code",
   "execution_count": 122,
   "metadata": {},
   "outputs": [],
   "source": [
    "import pandas as pd"
   ]
  },
  {
   "cell_type": "code",
   "execution_count": 123,
   "metadata": {},
   "outputs": [],
   "source": [
    "words = pd.read_csv('Tripdata.csv', sep=',')\n",
    "words = words.filter(items=[\"City\", \"Review\"]).drop_duplicates()"
   ]
  },
  {
   "cell_type": "code",
   "execution_count": 125,
   "metadata": {},
   "outputs": [],
   "source": [
    "words.to_csv(\"words.csv\", sep=\",\")"
   ]
  },
  {
   "cell_type": "code",
   "execution_count": 37,
   "metadata": {},
   "outputs": [],
   "source": [
    "pie_data = pd.read_csv('Tripdata.csv', sep=',')\n",
    "pie_data = pie_data.filter(items=[\"City\", \"Name\",\"Style\"])\n",
    "pie_data = pie_data.groupby([\"City\", \"Style\"])[\"Name\"].count().reset_index()"
   ]
  },
  {
   "cell_type": "code",
   "execution_count": 115,
   "metadata": {},
   "outputs": [],
   "source": [
    "bar_data = pd.read_excel('pivot.xlsx')\n",
    "bar_data = bar_data.drop(columns=[\"Price\"])\n",
    "bar_data = bar_data.fillna(0)"
   ]
  },
  {
   "cell_type": "code",
   "execution_count": 107,
   "metadata": {},
   "outputs": [],
   "source": [
    "ola = pd.pivot_table(bar_data, index=[\"City\", \"Rating\"], columns= [\"Price\"], aggfunc= \"count\")\n",
    "ola = ola.reset_index()\n"
   ]
  },
  {
   "cell_type": "code",
   "execution_count": 81,
   "metadata": {},
   "outputs": [],
   "source": [
    "cir_data = pd.read_csv('Tripdata.csv', sep=',')\n",
    "cir_data = cir_data.filter(items=[\"City\", \"Name\",\"Number of Reviews\", \"Date_Review\"])\n",
    "cir_data = cir_data.rename(columns={\"Number of Reviews\": \"num_rev\"})\n",
    "cir_data['Date_Review'] = pd.to_datetime(cir_data['Date_Review'],errors='coerce') \n",
    "cir_data['Year']=cir_data.Date_Review.dt.strftime('%Y')\n",
    "cir_data = cir_data[cir_data[\"Year\"]>=\"2016\"]\n",
    "cir_data = cir_data[cir_data[\"Year\"]!=\"NaT\"]\n",
    "cir_data = cir_data.drop(columns=[\"Date_Review\"])\n",
    "cir_data = cir_data.drop_duplicates()"
   ]
  },
  {
   "cell_type": "code",
   "execution_count": 119,
   "metadata": {},
   "outputs": [],
   "source": [
    "cir_data = cir_data.groupby([\"City\", \"Year\", \"Name\"])[\"num_rev\"].sum().reset_index()"
   ]
  },
  {
   "cell_type": "code",
   "execution_count": 121,
   "metadata": {},
   "outputs": [],
   "source": [
    "cir_data.to_csv(\"data_cir.csv\", sep=\",\")"
   ]
  },
  {
   "cell_type": "code",
   "execution_count": 38,
   "metadata": {},
   "outputs": [],
   "source": [
    "pie_data.to_csv(\"data_pie.csv\", sep=',')"
   ]
  },
  {
   "cell_type": "code",
   "execution_count": 117,
   "metadata": {},
   "outputs": [],
   "source": [
    "bar_data.to_csv(\"data_bar.csv\", sep=\",\")"
   ]
  },
  {
   "cell_type": "code",
   "execution_count": null,
   "metadata": {},
   "outputs": [],
   "source": []
  },
  {
   "cell_type": "code",
   "execution_count": 110,
   "metadata": {},
   "outputs": [],
   "source": [
    "writer = pd.ExcelWriter('pivot.xlsx')\n",
    "ola.to_excel(writer,'Sheet1')\n",
    "writer.save()"
   ]
  },
  {
   "cell_type": "code",
   "execution_count": null,
   "metadata": {},
   "outputs": [],
   "source": [
    "pd.read_excel"
   ]
  }
 ],
 "metadata": {
  "kernelspec": {
   "display_name": "Python 3",
   "language": "python",
   "name": "python3"
  },
  "language_info": {
   "codemirror_mode": {
    "name": "ipython",
    "version": 3
   },
   "file_extension": ".py",
   "mimetype": "text/x-python",
   "name": "python",
   "nbconvert_exporter": "python",
   "pygments_lexer": "ipython3",
   "version": "3.6.5"
  }
 },
 "nbformat": 4,
 "nbformat_minor": 2
}
